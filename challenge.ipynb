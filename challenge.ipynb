{
 "cells": [
  {
   "cell_type": "code",
   "execution_count": 3,
   "id": "9426324d",
   "metadata": {},
   "outputs": [],
   "source": [
    "import pandas as pd\n",
    "import numpy as np\n",
    "import csv\n",
    "import json\n",
    "import mysql.connector"
   ]
  },
  {
   "cell_type": "markdown",
   "id": "147732d9",
   "metadata": {},
   "source": [
    "## Instrucciones\n",
    "* La base de datos utilizada será MySQL.\n",
    "* para usar una base de datos se necesitan las credenciales, las cuales deben estar almacenadas en un archivo \"credentials.json\" que debe estar en el mismo directorio desde que ejecuta este .ipynb\n",
    "* por temas de seguridad, NO enviaré mi archivo credentials.json con mis credenciales. Para la ejecución de este codigo hay que crearlo desde cero. Los valores este archivo json deben ser:\n",
    "    - \"host\": el servidor (\"localhost\", en caso de ser local)\n",
    "    - \"user\": el nombre de usuario\n",
    "    - \"password\": la contraseña\n",
    "    - \"database\": el nombre de la base de datos"
   ]
  },
  {
   "cell_type": "markdown",
   "id": "3184dfbd",
   "metadata": {},
   "source": [
    "### Parte 1: Ingreso de información a base de datos\n",
    "* De las instrucciones se asume que no se puede trabajar directamente desde el archivo .csv provisto y que es necesario ingresar su información a una base de datos\n",
    "* En esta sección se creará una base de datos y se ingresarán los viajes\n",
    "* La base de datos utilizada será MySQL.\n",
    "* para usar una base de datos se necesitan las credenciales, las cuales deben estar almacenadas en un archivo \"credentials.json\" que debe estar en el mismo directorio desde que ejecuta este .ipynb\n",
    "* las propiedades del json deben estar en formato string con doble comillas (por ejemplo, \"user\":\"root\")\n",
    "\n"
   ]
  },
  {
   "cell_type": "code",
   "execution_count": 21,
   "id": "3ae1adf0",
   "metadata": {},
   "outputs": [
    {
     "name": "stdout",
     "output_type": "stream",
     "text": [
      "base de datos conectada\n"
     ]
    }
   ],
   "source": [
    "\n",
    "credentials = json.load(open(\"credentials.json\"))\n",
    "\n",
    "\n",
    "db_conn = mysql.connector.connect(\n",
    "    host = credentials['host'],\n",
    "    user = credentials['user'],\n",
    "    password = credentials['password'],\n",
    "    database = credentials['database']\n",
    ")\n",
    "\n",
    "if db_conn.is_connected():\n",
    "    print('base de datos conectada')"
   ]
  },
  {
   "cell_type": "code",
   "execution_count": 22,
   "id": "22cb793f",
   "metadata": {},
   "outputs": [
    {
     "name": "stdout",
     "output_type": "stream",
     "text": [
      "creando tabla \"viajes\"\n",
      "tabla \"viajes\" creada\n"
     ]
    }
   ],
   "source": [
    "'''\n",
    "A continuación, se guardará la información de trips.csv en la base de datos\n",
    "primero, se crea la tabla viajes\n",
    "'''\n",
    "if db_conn.is_connected():\n",
    "    cursor = db_conn.cursor()\n",
    "\n",
    "    table_name = 'viajes'\n",
    "    cursor.execute(f'DROP TABLE IF EXISTS {table_name};')#se crea la tabla si es que no existe\n",
    "    print(f'creando tabla \"{table_name}\"')\n",
    "    table_cols = [\n",
    "        {\n",
    "            'col_name':'region',\n",
    "            'col_type':'varchar(30)' #se que solo son 3 regiones, pero en el caso de que se agreguen más hay que considerar la posibilidad en que estas tengan nombres largos  \n",
    "        },\n",
    "        {\n",
    "            'col_name':'origin_coordX',\n",
    "            'col_type':'decimal(16,14)'\n",
    "        },\n",
    "        {\n",
    "            'col_name':'origin_coordY',\n",
    "            'col_type':'decimal(16,14)'\n",
    "        },\n",
    "        {\n",
    "            'col_name':'destination_coordX',\n",
    "            'col_type':'decimal(16,14)'\n",
    "        },\n",
    "        {\n",
    "            'col_name':'destination_coordY',\n",
    "            'col_type':'decimal(16,14)'\n",
    "        },\n",
    "        {\n",
    "            'col_name':'datetime',\n",
    "            'col_type':'datetime'\n",
    "        },\n",
    "        {\n",
    "            'col_name':'datasource',\n",
    "            'col_type':'varchar(30)'\n",
    "        },\n",
    "    ]\n",
    "    query = f\"CREATE TABLE {table_name} (\"\n",
    "    for col in table_cols:#agrego a la consulta cada columna\n",
    "        query += f\"{col['col_name']} {col['col_type']},\"\n",
    "    query = query[:-1]#le saco la coma del final, que sobra\n",
    "    query += \")\"\n",
    "\n",
    "    cursor.execute(query)\n",
    "    print(f'tabla \"{table_name}\" creada')\n"
   ]
  },
  {
   "cell_type": "code",
   "execution_count": 23,
   "id": "6307e61c",
   "metadata": {},
   "outputs": [
    {
     "name": "stdout",
     "output_type": "stream",
     "text": [
      "insertando filas en tabla viajes\n",
      "filas insertadas\n"
     ]
    }
   ],
   "source": [
    "'''\n",
    "luego, se agregan los elementos del .csv en la base de datos\n",
    "'''\n",
    "trips_df = pd.read_csv(\"trips.csv\")#leo la información de los viajes\n",
    "if db_conn.is_connected():\n",
    "    table_name = \"viajes\"\n",
    "    cursor = db_conn.cursor()\n",
    "    print(f\"insertando filas en tabla {table_name}\")\n",
    "    #itero sobre cada fila\n",
    "    for index, row in list(trips_df.iterrows()):\n",
    "\n",
    "        origin = row['origin_coord'].split(\" \") #[\"POINT\", \"(12.3456...\", \"12.3456)\"]\n",
    "        originX = origin[1][1:] # coordenada X del origen. Le saco el \"(\" del principio al string y casteo como flotante\n",
    "        originY = origin[2][:-1] # coordenada Y del origen. le saco el \")\" del final al string y casteo como flotante\n",
    "\n",
    "        dest = row['destination_coord'].split(\" \") #[\"POINT\", \"(12.3456...\", \"12.3456)\"]\n",
    "        destX = dest[1][1:] # coordenada X del destino. Le saco el \"(\" del principio al string y casteo como flotante\n",
    "        destY = dest[2][:-1] # coordenada Y del destino. le saco el \")\" del final al string y casteo como flotante\n",
    "\n",
    "        travel_data = {\n",
    "            'region':f'\"{row[\"region\"]}\"',#valores de tipo string deben estar con doble comillas, para la creación del query\n",
    "            'origin_coordX':originX,\n",
    "            'origin_coordY':originY,\n",
    "            'destination_coordX':destX,\n",
    "            'destination_coordY':destY,\n",
    "            'datetime':f'\"{row[\"datetime\"]}\"',\n",
    "            'datasource':f'\"{row[\"datasource\"]}\"'\n",
    "        }\n",
    "        #ahora creo la query del viaje\n",
    "        query = f'INSERT INTO {table_name} ({\", \".join(travel_data.keys())}) VALUES ({\", \".join(travel_data.values())});'\n",
    "        cursor.execute(query)\n",
    "        db_conn.commit()\n",
    "    \n",
    "    print(\"filas insertadas\")\n",
    "\n"
   ]
  },
  {
   "cell_type": "markdown",
   "id": "f6b82b4d",
   "metadata": {},
   "source": [
    "### Parte 2: Obtención de datos desde la base de datos\n",
    "Luego de que la base de datos está creada, se sacan los datos desde acá"
   ]
  },
  {
   "cell_type": "code",
   "execution_count": 24,
   "id": "104739e0",
   "metadata": {},
   "outputs": [],
   "source": [
    "travel_data = []\n",
    "if db_conn.is_connected():\n",
    "    cursor = db_conn.cursor()\n",
    "    table_name = 'viajes'\n",
    "    query = f'SELECT * FROM {table_name}'\n",
    "    cursor.execute(query)\n",
    "    travel_data = cursor.fetchall()"
   ]
  },
  {
   "cell_type": "markdown",
   "id": "df8ccdef",
   "metadata": {},
   "source": [
    "A continuación se realizará una estimación de cuanto pesarían los datos esto en el caso de que el número de entradas sea igual a 100 millones (de acuerdo a la condición de la escalabilidad explicitada en el readme)"
   ]
  },
  {
   "cell_type": "code",
   "execution_count": 25,
   "id": "bd5c1bf1",
   "metadata": {},
   "outputs": [
    {
     "name": "stdout",
     "output_type": "stream",
     "text": [
      "9040000000.0\n"
     ]
    }
   ],
   "source": [
    "import sys\n",
    "data_size = sys.getsizeof(travel_data)\n",
    "data_len = len(travel_data)\n",
    "hypothetical_size = 1000000000 * data_size / data_len\n",
    "print(hypothetical_size)"
   ]
  },
  {
   "cell_type": "markdown",
   "id": "04d3a6a0",
   "metadata": {},
   "source": [
    "Los datos pesan aproximadamente 9 mil millones de bytes o 9 gigabytes. Un computador \"comerical\" con buena RAM puede almacenar esta cantidad de datos para ejecución, pero hay que tener cuidado con la manipulación de datos y los ordenes de peso en los siguientes algoritmos."
   ]
  },
  {
   "cell_type": "markdown",
   "id": "7922d5f3",
   "metadata": {},
   "source": [
    "### Parte 3: Visualización previa\n",
    "En primer lugar, visualizaremos las trayectorias de los viajes. En primer lugar mostraremos los viajes realizados en las 3 regiones al mismo tiempo.\n"
   ]
  },
  {
   "cell_type": "code",
   "execution_count": 26,
   "id": "ab56ef1e",
   "metadata": {},
   "outputs": [
    {
     "data": {
      "image/png": "[encoded data removed]",
      "text/plain": [
       "<Figure size 432x288 with 1 Axes>"
      ]
     },
     "metadata": {
      "needs_background": "light"
     },
     "output_type": "display_data"
    }
   ],
   "source": [
    "import matplotlib.pyplot as plt\n",
    "from matplotlib.pyplot import figure\n",
    "\n",
    "fig, ax = plt.subplots()\n",
    "\n",
    "for travel in travel_data:\n",
    "    region, originX, originY, destX, destY, datetime, datasource = travel\n",
    "    color = \"y\"\n",
    "    if region == \"Prague\":\n",
    "        color = \"g\"\n",
    "    elif region == \"Turin\":\n",
    "        color = \"r\"\n",
    "    elif region == \"Hamburg\":\n",
    "        color = \"b\"\n",
    "    ax.plot([originX,destX],[originY,destY], color)\n",
    "    \n",
    "\n"
   ]
  },
  {
   "cell_type": "markdown",
   "id": "9a17594f",
   "metadata": {},
   "source": [
    "Ahora, mostraremos los viajes en cada región especificada. Los desitnos se marcan con una X."
   ]
  },
  {
   "cell_type": "code",
   "execution_count": 27,
   "id": "0999e703",
   "metadata": {},
   "outputs": [],
   "source": [
    "def show_region_travels(selected_region):\n",
    "    fig, ax = plt.subplots()\n",
    "    for travel in travel_data:\n",
    "        region, originX, originY, destX, destY, datetime, datasource = travel\n",
    "        if region == selected_region:\n",
    "            ax.plot([originX,destX],[originY,destY],color=\"b\")\n",
    "            ax.scatter(destX,destY, marker=\"x\",color=\"b\")\n",
    "            #ax.scatter((originX+destX)/2, (originY+destY)/2, marker=\"o\", color=\"r\")\n",
    "\n"
   ]
  },
  {
   "cell_type": "code",
   "execution_count": 28,
   "id": "d3bbac06",
   "metadata": {},
   "outputs": [
    {
     "data": {
      "image/png": "[encoded data removed]",
      "text/plain": [
       "<Figure size 432x288 with 1 Axes>"
      ]
     },
     "metadata": {
      "needs_background": "light"
     },
     "output_type": "display_data"
    }
   ],
   "source": [
    "show_region_travels(\"Prague\")"
   ]
  },
  {
   "cell_type": "code",
   "execution_count": 29,
   "id": "8815f399",
   "metadata": {},
   "outputs": [
    {
     "data": {
      "image/png": "[encoded data removed]",
      "text/plain": [
       "<Figure size 432x288 with 1 Axes>"
      ]
     },
     "metadata": {
      "needs_background": "light"
     },
     "output_type": "display_data"
    }
   ],
   "source": [
    "show_region_travels(\"Turin\")"
   ]
  },
  {
   "cell_type": "code",
   "execution_count": 30,
   "id": "ae54f14b",
   "metadata": {},
   "outputs": [
    {
     "data": {
      "image/png": "[encoded data removed]",
      "text/plain": [
       "<Figure size 432x288 with 1 Axes>"
      ]
     },
     "metadata": {
      "needs_background": "light"
     },
     "output_type": "display_data"
    }
   ],
   "source": [
    "show_region_travels(\"Hamburg\")"
   ]
  },
  {
   "cell_type": "markdown",
   "id": "f4f29e96",
   "metadata": {},
   "source": [
    "En conlusión, debido a la distancia entre las regiones, dos viajes \"similares\" siempre estarán en la misma región."
   ]
  },
  {
   "cell_type": "markdown",
   "id": "7bc5c951",
   "metadata": {},
   "source": [
    "### Parte 4: Preprocesamiento y solución en base a clustering\n",
    "\n",
    "La solución se realizará mediante clustering, es decir, juntar grupos de viajes que se asemejen en 5 dimensiones:\n",
    "1. Coordenada X de partida\n",
    "2. Coordenada Y de partida\n",
    "3. Coordenada X de llegada\n",
    "4. Coordenada Y de llegada\n",
    "5. hora (se considerará solo la hora, no la fecha)\n",
    "\n",
    "Cada grupo consistirá en viajes en una misma región, por lo que se tendrá que hacer una separación de los viajes por regiones.\n",
    "\n",
    "Para que la solución sea escalable, se separarán directamente los datos por regiones desde la base de datos (ASUMIENDO QUE SOLO EXISTEN VIAJES DE ESAS TRES REGIONES). Para que se cumpla la escalabilidad en el caso de los 100 millones de ejemplos, se debe ignorar el código de la parte 2.\n",
    "\n",
    "Al trabajar en regiones separadas, y asumiendo que cada región aportará un tercio de los viajes en el conjunto de los 100 millones de ejemplos, se podría trabajar separadamente con un tercio de los viajes. Esto quere decir que en vez de 9 gygabites, se puede trabajar 3 gygabites.\n",
    "\n",
    "Esta vez se seleccionará para cada viaje (separado por región) solo las coordenadas de origen y destino; y la hora."
   ]
  },
  {
   "cell_type": "code",
   "execution_count": 104,
   "id": "6da5d211",
   "metadata": {},
   "outputs": [],
   "source": [
    "travel_Prague = []\n",
    "travel_Turin = []\n",
    "travel_Hamburg = []\n",
    "\n",
    "if db_conn.is_connected():\n",
    "    cursor = db_conn.cursor()\n",
    "    table_name = 'viajes'\n",
    "    query = f'SELECT origin_coordX, origin_coordY, destination_coordX, destination_coordY, HOUR(datetime) FROM {table_name} where region=\"Prague\"'\n",
    "    cursor.execute(query)\n",
    "    travel_Prague = cursor.fetchall()\n",
    "    \n",
    "    query = f'SELECT origin_coordX, origin_coordY, destination_coordX, destination_coordY, HOUR(datetime) FROM {table_name} where region=\"Turin\"'\n",
    "    cursor.execute(query)\n",
    "    travel_Turin = cursor.fetchall()\n",
    "    \n",
    "    query = f'SELECT origin_coordX, origin_coordY, destination_coordX, destination_coordY, HOUR(datetime) FROM {table_name} where region=\"Hamburg\"'\n",
    "    cursor.execute(query)\n",
    "    travel_Hamburg = cursor.fetchall()\n",
    "    "
   ]
  },
  {
   "cell_type": "markdown",
   "id": "c4364222",
   "metadata": {},
   "source": [
    "Para reducir la cantidad de dimensiones de los datos (actualmente 5) se tomará la coordenada de la mitad de cada viaje en lugar de las coordenadas de origen y destino de viaje. Esta coordenada se calcula de la siguiente forma:\n",
    "\n",
    "$$\n",
    "\\text{coordenada del centro centro}: (\\frac{origenX+destinoX}{2},\\frac{origenY+destinoY}{2})\n",
    "$$\n",
    "\n",
    "Queda como ejercicio probar como se comportará la solución propuesta sin hacer esta transformación, pues ésta podría estar comprometiendo la representatividad de los resultados finales. De todas formas, ahora que hay 2 dimensiones para representar las coordenadas espaciales de los viajes en lugar de 4, la dimensión correspondiente al horario cobra más importancia.\n",
    "\n",
    "De esta forma, en lugar de 5 dimensiones ahora se puede trabajar con 3: coordenada X de la mitad del viaje, coordenada Y de la mitad del viaje y hora (además de facilitar los procesos en cuanto a tiempo, también requiere mucho menos espacio).\n",
    "\n",
    "Los algoritmos de clustering se basan en las diferencias calculadas entre los ejemplos que se tienen. Uno de los datos de cada viaje es la hora, la cual varía de \"0\" (12AM) a 23:00 (11PM). El problema es que si se ocupa este formato, la diferencia en cuanto a tiempo entre un viaje que empieza a las 23 horas y uno que empieza a las 0 horas es de 23 horas (cuando en realidad la diferencia es de una hora). Por lo tanto, hay que también pasar la hora a un formato tipo coseno, de la siguiente forma:\n",
    "\n",
    "$$\n",
    "\\text{hora cosenoidal(hora)}=cos(\\frac{2*hora*\\pi}{24})=cos(\\frac{hora*\\pi}{12})\n",
    "$$\n",
    "\n",
    "De esta forma, la diferencia entre la hora 23 y la hora 0, o la hora 20 y la hora 4 (por ejemplo) podrá ser minima aunque haya pasado el día."
   ]
  },
  {
   "cell_type": "code",
   "execution_count": 106,
   "id": "e3a972da",
   "metadata": {},
   "outputs": [
    {
     "name": "stdout",
     "output_type": "stream",
     "text": [
      "transformando datos para región: Prague\n",
      "0.00%\n",
      "14.71%\n",
      "29.41%\n",
      "44.12%\n",
      "58.82%\n",
      "73.53%\n",
      "88.24%\n",
      "100%\n",
      "transformando datos para región: Turin\n",
      "0.00%\n",
      "13.16%\n",
      "26.32%\n",
      "39.47%\n",
      "52.63%\n",
      "65.79%\n",
      "78.95%\n",
      "92.11%\n",
      "100%\n",
      "transformando datos para región: Hamburg\n",
      "0.00%\n",
      "17.86%\n",
      "35.71%\n",
      "53.57%\n",
      "71.43%\n",
      "89.29%\n",
      "100%\n"
     ]
    }
   ],
   "source": [
    "import math\n",
    "\n",
    "def cos_hour(x):\n",
    "    return math.cos(x*math.pi/12)\n",
    "\n",
    "def transform_travel_data(travel_data, region):\n",
    "    print(f\"transformando datos para región: {region}\")\n",
    "    L = len(travel_data)\n",
    "    travel_transformed = []#originalmente iba a transformar la lista travel data para ahorrar espaciom pero necesitaré las coordenadas originales para una futura visualización\n",
    "    for i in range(L):\n",
    "        if i%5 == 0:\n",
    "            print(f\"{100.0*i/L:.2f}%\")\n",
    "        travel = travel_data[i]\n",
    "        originX, originY, destX, destY, hour = travel\n",
    "        centerX = (float(originX)+float(destX))/2\n",
    "        centerY = (float(originY)+float(destY))/2\n",
    "        cosine_hour = cos_hour(hour)\n",
    "        \n",
    "        #travel_data[i] = centerX, centerY, cosine_hour\n",
    "        travel_transformed.append( (centerX, centerY, cosine_hour) )\n",
    "        \n",
    "    print(\"100%\")\n",
    "    \n",
    "    return travel_transformed\n",
    "\n",
    "travel_Prague_trans = transform_travel_data(travel_Prague,\"Prague\")\n",
    "travel_Turin_trans = transform_travel_data(travel_Turin,\"Turin\")\n",
    "travel_Hamburg_trans = transform_travel_data(travel_Hamburg,\"Hamburg\")"
   ]
  },
  {
   "cell_type": "markdown",
   "id": "f52845ae",
   "metadata": {},
   "source": [
    "También normalizaremos cada los elementos en cada dimensión para que los valores estén entre 0 y 1."
   ]
  },
  {
   "cell_type": "code",
   "execution_count": 107,
   "id": "fd598221",
   "metadata": {},
   "outputs": [
    {
     "name": "stdout",
     "output_type": "stream",
     "text": [
      "normalizando para region: Prague\n",
      "0.00%\n",
      "14.71%\n",
      "29.41%\n",
      "44.12%\n",
      "58.82%\n",
      "73.53%\n",
      "88.24%\n",
      "100%\n",
      "normalizando para region: Turin\n",
      "0.00%\n",
      "13.16%\n",
      "26.32%\n",
      "39.47%\n",
      "52.63%\n",
      "65.79%\n",
      "78.95%\n",
      "92.11%\n",
      "100%\n",
      "normalizando para region: Hamburg\n",
      "0.00%\n",
      "17.86%\n",
      "35.71%\n",
      "53.57%\n",
      "71.43%\n",
      "89.29%\n",
      "100%\n"
     ]
    }
   ],
   "source": [
    "def normalize(travel_data, region):\n",
    "    print(f\"normalizando para region: {region}\")\n",
    "    \n",
    "    Xmin = 999999999999\n",
    "    Xmax = -99999999999\n",
    "    Ymin = 999999999999\n",
    "    Ymax = -9999999999\n",
    "    \n",
    "    for travel in travel_data:\n",
    "        #print(travel)\n",
    "        centerX, centerY, cos_hour = travel\n",
    "        if centerX < Xmin:\n",
    "            Xmin = centerX\n",
    "        if centerX > Xmax:\n",
    "            Xmax = centerX\n",
    "        if centerY < Ymin:\n",
    "            Ymin = centerY\n",
    "        if centerY > Ymax:\n",
    "            Ymax = centerY\n",
    "    \n",
    "    L = len(travel_data)\n",
    "    for i in range(L):\n",
    "        if i%5 == 0:\n",
    "            print(f\"{100.0*i/L:.2f}%\")\n",
    "\n",
    "        centerX, centerY, cosine_hour = travel_data[i]\n",
    "        #normalizo ocumando la formula (X-Xmax)/(Xmax-Xmin)\n",
    "        normX = (centerX - Xmin)/(Xmax-Xmin)\n",
    "        normY = (centerY - Ymin)/(Ymax-Ymin)\n",
    "        \n",
    "        travel_data[i] = normX, normY, (cosine_hour+1)/2 # lo ultimo se hace para pasar cosine_hour del rango [-1,1] al rango [0,1]\n",
    "    print(\"100%\")  \n",
    "    return travel_data\n",
    "            \n",
    "travel_Prague_trans = normalize(travel_Prague_trans, \"Prague\")\n",
    "travel_Turin_trans = normalize(travel_Turin_trans, \"Turin\")\n",
    "travel_Hamburg_trans = normalize(travel_Hamburg_trans, \"Hamburg\")"
   ]
  },
  {
   "cell_type": "markdown",
   "id": "0dc24540",
   "metadata": {},
   "source": [
    "Una vez reducida la dimensionalidad y normalizados los datos, se puede pasar al algoritmo de clustering. Para este caso se opta por utilizar el algoritmo k-means. En resumen, este algoritmo consiste en los siguientes pasos:\n",
    "   1. Elegir K ejemplos aleatorios (en este caso viajes), donde K es el número de grupos que buscamos (K es un parámetro ajustable). Estos puntos serán los \"centroides\" de cada grupo. (tiempo: $O(1)$, espacio: $O(N)$, donde N es la cantidad de ejemplos)\n",
    "   2. Para cada ejemplo que no es un centroide, se le asigna al grupo de su centroide más cercano según una formula de distancia (tiempo: $O(N*K)$, espacio: $O(N)$)\n",
    "   3. Una vez se hayan asignado todos los ejemplos a un grupo, para cada grupo se calcula su \"punto promedio\" (el promedio de todos sus ejemplos). Estos puntos serán los nuevos centroides. (tiempo: $O(N)$, espacio: $O(N)$ (depende del tamaño de los grupos, pero este escala con N))\n",
    "   4. Volver al paso 2 y repetir un total de \"I\" veces (donde I es un parámetro) o hasta llegar a una convergencia. \n",
    "   5. Se puede repetir todo \"E\" (donde E también es un parámetro) veces, eligiendo la configuración de grupos en que la suma de variaciones de distancias cada grupo sea minima.\n",
    "   \n",
    "En total, k-means tiene un coste de un orden de magnitud de $O(N*K*I*E)$ en cuanto a tiempo y O(N) en cuanto a espacio. Considerando que K, I y E no tienen que ser valores no muy grandes, el algoritmo es escalable.\n",
    "   \n",
    "En este caso la formula de distancia será euclidiana. Si cada viaje consta de:\n",
    "* CenterX: coordenada X normalizada de la mitad del viaje\n",
    "* CenterY: coordenada Y normalizada de la mitad del viaje\n",
    "* cosHora: hora transformada en formato cosenoidal  \n",
    "\n",
    "Entonces la distancia entre dos viajes se calcula como:\n",
    "$$\n",
    "distancia(viaje_1, viaje_2) = \\sqrt{(CenterX_1 - centerX_2)^2 + (centerY_1 - centerY_2)^2 + (cosHora_1 - cosHora_2)^2}\n",
    "$$\n",
    "   \n",
    "Por temas de comodidad se usará la librería sklearn para esta tarea. \n"
   ]
  },
  {
   "cell_type": "code",
   "execution_count": 108,
   "id": "c84cd4f2",
   "metadata": {},
   "outputs": [],
   "source": [
    "from sklearn.cluster import KMeans\n",
    "\n",
    "'''\n",
    "recibe travel_data, una lista de viajes en formato (centroX, centroY, cosHora)\n",
    "devuelve una lista de enteros de largo |travel_data|. Estos valores van de 0 a K-1 e indican a que cluster se asigna cada elemento de travel_data.\n",
    "'''\n",
    "def kmeans(travel_data, K=5, I=75, E=15):\n",
    "    \n",
    "    km = KMeans(\n",
    "        n_clusters = K,\n",
    "        init = 'random',\n",
    "        n_init = E,\n",
    "        max_iter = I\n",
    "    )\n",
    "    \n",
    "    groups = km.fit_predict(travel_data)\n",
    "    return groups"
   ]
  },
  {
   "cell_type": "markdown",
   "id": "adf69672",
   "metadata": {},
   "source": [
    "Para este caso se usará $I=75$ y E=$15$ (queda como ejecricio propuesto experimentar con estos valores). Con respecto a K, se tendrá que elegir el numero de \"clusters\" o grupos. Para hacer esto se puede usar el método \"elbow\", que consiste en probar con muchos valores de K e ir analizando el desempeño según la métrica \"SSE\", que consiste en las suma de las distancias cuadráticas entre cada valor y el centroide de su grupo. La formula es la siguiente:\n",
    "\n",
    "$$\n",
    "SSE = \\sum^{K}_{k=0}\\sum_{x \\in C_{k}}distancia(c_{k}, x)^{2}\n",
    "$$\n",
    "\n",
    "(donde $C_{k}$ es el cluster $k$ y $c_{k}$ es su correspondiente centroide)\n",
    "\n",
    "En sklearn, este valor se obtiene directamente de la variable \"inertia_\". Para las tres regiones se analizará el resultado usando valores de $K$ del $3$ al $10$."
   ]
  },
  {
   "cell_type": "code",
   "execution_count": 109,
   "id": "9f93e4fe",
   "metadata": {},
   "outputs": [],
   "source": [
    "#se quiere graficar el SSE obtenido para valores de K del 3 al 10 aplicados a data\n",
    "def plot_elbow(data, I=75, E=15):\n",
    "    SSE_list = []\n",
    "    for K in range(3,11):\n",
    "        print(f\"calculando con K={K}\")\n",
    "        km = KMeans(\n",
    "            n_clusters = K,\n",
    "            init = 'random',\n",
    "            n_init = E,\n",
    "            max_iter = I\n",
    "        )\n",
    "        km.fit(data)\n",
    "        SSE_list.append(km.inertia_)\n",
    "        \n",
    "    plt.plot(range(3, 11), SSE_list, marker='o')\n",
    "    plt.xlabel('K')\n",
    "    plt.ylabel('SSE')\n",
    "    plt.show()\n"
   ]
  },
  {
   "cell_type": "code",
   "execution_count": 110,
   "id": "4b6c893a",
   "metadata": {},
   "outputs": [
    {
     "name": "stdout",
     "output_type": "stream",
     "text": [
      "calculando con K=3\n",
      "calculando con K=4\n",
      "calculando con K=5\n",
      "calculando con K=6\n",
      "calculando con K=7\n",
      "calculando con K=8\n",
      "calculando con K=9\n",
      "calculando con K=10\n"
     ]
    },
    {
     "data": {
      "image/png": "[encoded data removed]",
      "text/plain": [
       "<Figure size 432x288 with 1 Axes>"
      ]
     },
     "metadata": {
      "needs_background": "light"
     },
     "output_type": "display_data"
    }
   ],
   "source": [
    "plot_elbow(travel_Prague_trans)"
   ]
  },
  {
   "cell_type": "code",
   "execution_count": 111,
   "id": "21fd6626",
   "metadata": {},
   "outputs": [
    {
     "name": "stdout",
     "output_type": "stream",
     "text": [
      "calculando con K=3\n",
      "calculando con K=4\n",
      "calculando con K=5\n",
      "calculando con K=6\n",
      "calculando con K=7\n",
      "calculando con K=8\n",
      "calculando con K=9\n",
      "calculando con K=10\n"
     ]
    },
    {
     "data": {
      "image/png": "[encoded data removed]",
      "text/plain": [
       "<Figure size 432x288 with 1 Axes>"
      ]
     },
     "metadata": {
      "needs_background": "light"
     },
     "output_type": "display_data"
    }
   ],
   "source": [
    "plot_elbow(travel_Turin_trans)"
   ]
  },
  {
   "cell_type": "code",
   "execution_count": 112,
   "id": "4827284d",
   "metadata": {},
   "outputs": [
    {
     "name": "stdout",
     "output_type": "stream",
     "text": [
      "calculando con K=3\n",
      "calculando con K=4\n",
      "calculando con K=5\n",
      "calculando con K=6\n",
      "calculando con K=7\n",
      "calculando con K=8\n",
      "calculando con K=9\n",
      "calculando con K=10\n"
     ]
    },
    {
     "data": {
      "image/png": "[encoded data removed]",
      "text/plain": [
       "<Figure size 432x288 with 1 Axes>"
      ]
     },
     "metadata": {
      "needs_background": "light"
     },
     "output_type": "display_data"
    }
   ],
   "source": [
    "plot_elbow(travel_Hamburg_trans)"
   ]
  },
  {
   "cell_type": "markdown",
   "id": "2db5240c",
   "metadata": {},
   "source": [
    "El truco de \"elbow\" es elegir el valor de $K$ en que la curva presente un \"codo\". Acá se busca un valor de $K$ suficientemente bajo en el que se alcance un SSE suficientemente bajo . En este ejercicio no se especifica que el numero de grupos debe ser bajo, pero asumamos que no quieremos que sea un número excesivamente alto.\n",
    "\n",
    "* Para Prague, se escoge $K=6$.\n",
    "* Para Turin, se escoge $K=5$.\n",
    "* Para Hamburg, se escoge $K=5$\n",
    "\n",
    "NOTA: esto podría variar en el caso de los 100 millones de ejemplos. \n",
    "\n",
    "Dando un total de 16 grupos. Por lo tanto, los grupos se obtienen así:"
   ]
  },
  {
   "cell_type": "code",
   "execution_count": 113,
   "id": "145b2b91",
   "metadata": {},
   "outputs": [],
   "source": [
    "groups_Prague = kmeans(travel_Prague, 6)"
   ]
  },
  {
   "cell_type": "code",
   "execution_count": 114,
   "id": "3b260a76",
   "metadata": {},
   "outputs": [],
   "source": [
    "groups_Turin = kmeans(travel_Turin, 5)"
   ]
  },
  {
   "cell_type": "code",
   "execution_count": 115,
   "id": "c8427d3c",
   "metadata": {},
   "outputs": [],
   "source": [
    "groups_Hamburg = kmeans(travel_Hamburg, 5)"
   ]
  },
  {
   "cell_type": "markdown",
   "id": "e269831f",
   "metadata": {},
   "source": [
    "Considerando cada configuración de grupos correspondiente a cada región es un arreglo con valores de $0$ a $K-1$, para que no se repitan valores al considerar a las tres regiones juntas, se realizará la siguiente transformación."
   ]
  },
  {
   "cell_type": "code",
   "execution_count": 116,
   "id": "3f9e4bce",
   "metadata": {},
   "outputs": [],
   "source": [
    "for i in range(len(groups_Turin)):\n",
    "    groups_Turin[i]+=6 #el valor maximo encontrado en los grupos de la región Prague es 5, mas uno es 6.\n",
    "    #de este modo, los grupos asignados para Turin estarán representados por valores del 6 al 11.\n",
    "    \n",
    "for i in range(len(groups_Hamburg)):\n",
    "    groups_Hamburg[i]+=11 #el valor maximo encontrado en los grupos de la región Turin es 11 (dada la transformación anterior), mas uno es 12.\n",
    "    #de este modo, los grupos asignados para Hamburg estarán representados por valores del 12 al 16\n",
    "    "
   ]
  },
  {
   "cell_type": "code",
   "execution_count": 117,
   "id": "bb8e80da",
   "metadata": {},
   "outputs": [
    {
     "data": {
      "text/plain": [
       "array([2, 2, 1, 5, 5, 3, 0, 0, 5, 0, 5, 3, 1, 5, 0, 1, 1, 0, 0, 3, 1, 4,\n",
       "       4, 2, 1, 3, 1, 0, 2, 0, 2, 4, 2, 3])"
      ]
     },
     "execution_count": 117,
     "metadata": {},
     "output_type": "execute_result"
    }
   ],
   "source": [
    "groups_Prague#grupos 0-5"
   ]
  },
  {
   "cell_type": "code",
   "execution_count": 118,
   "id": "acb93daf",
   "metadata": {},
   "outputs": [
    {
     "data": {
      "text/plain": [
       "array([ 8, 10, 10,  8,  8,  7,  6,  6,  6, 10, 10,  7,  7,  6,  6, 10,  6,\n",
       "        9,  7,  6,  7,  9,  9,  7, 10, 10, 10,  7,  7,  7,  7,  6,  8,  6,\n",
       "        7,  9,  7,  9])"
      ]
     },
     "execution_count": 118,
     "metadata": {},
     "output_type": "execute_result"
    }
   ],
   "source": [
    "groups_Turin#grupos 6-10"
   ]
  },
  {
   "cell_type": "code",
   "execution_count": 119,
   "id": "efbc20a9",
   "metadata": {},
   "outputs": [
    {
     "data": {
      "text/plain": [
       "array([15, 15, 13, 11, 15, 12, 15, 11, 15, 14, 15, 15, 11, 13, 14, 15, 15,\n",
       "       11, 12, 11, 12, 11, 14, 11, 11, 12, 15, 15])"
      ]
     },
     "execution_count": 119,
     "metadata": {},
     "output_type": "execute_result"
    }
   ],
   "source": [
    "groups_Hamburg#grupos 11-16"
   ]
  },
  {
   "cell_type": "markdown",
   "id": "1d3acc91",
   "metadata": {},
   "source": [
    "### Parte 5: Promedio semanal\n",
    "\n",
    "Finalmente se calculará el promedio semanal por grupo."
   ]
  },
  {
   "cell_type": "code",
   "execution_count": 130,
   "id": "1687ea92",
   "metadata": {},
   "outputs": [],
   "source": [
    "travel_Prague_weeks = []\n",
    "travel_Turin_weeks = []\n",
    "travel_Hamburg_weeks = []\n",
    "\n",
    "#esta vez obtengo las semanas usando la función WEEK de MYSQL. Ojo que cada semana obtenida es correspondiente a cada elemento de las listas groups_Prague, groups_Turin y groups_Hamburg. Es decir, se devuelven las semanas de cada viajes en el mismo orden. \n",
    "if db_conn.is_connected():\n",
    "    cursor = db_conn.cursor()\n",
    "    table_name = 'viajes'\n",
    "    query = f'SELECT WEEK(datetime) FROM {table_name} where region=\"Prague\"'\n",
    "    cursor.execute(query)\n",
    "    travel_Prague_weeks = cursor.fetchall()\n",
    "    \n",
    "    query = f'SELECT WEEK(datetime) FROM {table_name} where region=\"Turin\"'\n",
    "    cursor.execute(query)\n",
    "    travel_Turin_weeks = cursor.fetchall()\n",
    "    \n",
    "    query = f'SELECT WEEK(datetime) FROM {table_name} where region=\"Hamburg\"'\n",
    "    cursor.execute(query)\n",
    "    travel_Hamburg_weeks = cursor.fetchall()\n",
    "    "
   ]
  },
  {
   "cell_type": "code",
   "execution_count": 129,
   "id": "3e642b37",
   "metadata": {},
   "outputs": [],
   "source": [
    "def week_mean(weeks, groups, region):#entrega el promedio semanal de numero de viajes por grupos\n",
    "    print(f\"calculando promedio semanal para grupos de la región: {region}\")\n",
    "    data = {}#acá almacenará el numero de viajes por cada grupo y por cada semana. \n",
    "    #Cada elemento del diccionario será de la forma {\"grupo\": {semana1: cantsemana1, semana2: cant:semana2, etc}}\n",
    "\n",
    "    for week, group in zip(weeks, groups):#itero en las dos listas al mismo tiempo\n",
    "        \n",
    "        if group not in data: #si el grupo no se ha agregado al diccionario, se debe inicializar como un diccionario vacío\n",
    "            data[group] = {}\n",
    "            \n",
    "        #ahora, veo la semana\n",
    "        if week not in data[group]: #si no he guardado la semana para el grupo (que es un diccionario), la inicializo con cantidad de apariciones = 1\n",
    "            data[group][week] = 1\n",
    "        else:\n",
    "            data[group][week] += 1 #si ya se ha guardado la semana para este grupo, le sumo una aparación\n",
    "            \n",
    "\n",
    "    #ya almacenadas la cantidad de viajes por semana y por grupo, saco el promedio semanal\n",
    "\n",
    "    for group, week_aparitions in data.items():\n",
    "        aparitions = list(week_aparitions.values()) # lista con las cantidades semanales de un grupo\n",
    "        mean = np.array(aparitions).mean()\n",
    "        data[group] = mean #reemplazo el diccionario con apariciones semanales por los datos\n",
    "        \n",
    "        print(f\"grupo {group} tiene {mean} viajes semanales en promedio\")\n",
    "            \n",
    "    return\n",
    "            \n",
    "        "
   ]
  },
  {
   "cell_type": "code",
   "execution_count": 88,
   "id": "f5ae4b3a",
   "metadata": {},
   "outputs": [
    {
     "name": "stdout",
     "output_type": "stream",
     "text": [
      "región: Prague\n",
      "grupo 1 tiene 1.5 viajes semanales en promedio\n",
      "grupo 5 tiene 1.2 viajes semanales en promedio\n",
      "grupo 4 tiene 2.5 viajes semanales en promedio\n",
      "grupo 2 tiene 1.4 viajes semanales en promedio\n",
      "grupo 3 tiene 1.3333333333333333 viajes semanales en promedio\n",
      "grupo 0 tiene 2.0 viajes semanales en promedio\n"
     ]
    }
   ],
   "source": [
    "print(\"región: Prague\")\n",
    "week_mean(travel_Prague_weeks, groups_Prague)"
   ]
  },
  {
   "cell_type": "code",
   "execution_count": 89,
   "id": "4e5da3b3",
   "metadata": {},
   "outputs": [
    {
     "name": "stdout",
     "output_type": "stream",
     "text": [
      "region: Turin\n",
      "grupo 7 tiene 2.0 viajes semanales en promedio\n",
      "grupo 9 tiene 2.0 viajes semanales en promedio\n",
      "grupo 10 tiene 1.5 viajes semanales en promedio\n",
      "grupo 11 tiene 1.75 viajes semanales en promedio\n",
      "grupo 8 tiene 1.5 viajes semanales en promedio\n",
      "grupo 6 tiene 1.25 viajes semanales en promedio\n"
     ]
    }
   ],
   "source": [
    "print(\"region: Turin\")\n",
    "week_mean(travel_Turin_weeks, groups_Turin)"
   ]
  },
  {
   "cell_type": "code",
   "execution_count": 90,
   "id": "c9212f06",
   "metadata": {},
   "outputs": [
    {
     "name": "stdout",
     "output_type": "stream",
     "text": [
      "region: Hamburg\n",
      "grupo 13 tiene 1.6666666666666667 viajes semanales en promedio\n",
      "grupo 15 tiene 1.25 viajes semanales en promedio\n",
      "grupo 14 tiene 1.2 viajes semanales en promedio\n",
      "grupo 16 tiene 1.2 viajes semanales en promedio\n",
      "grupo 12 tiene 2.0 viajes semanales en promedio\n"
     ]
    }
   ],
   "source": [
    "print(\"region: Hamburg\")\n",
    "week_mean(travel_Hamburg_weeks, groups_Hamburg)"
   ]
  },
  {
   "cell_type": "code",
   "execution_count": null,
   "id": "1e45ec3f",
   "metadata": {},
   "outputs": [],
   "source": []
  }
 ],
 "metadata": {
  "kernelspec": {
   "display_name": "Python 3",
   "language": "python",
   "name": "python3"
  },
  "language_info": {
   "codemirror_mode": {
    "name": "ipython",
    "version": 3
   },
   "file_extension": ".py",
   "mimetype": "text/x-python",
   "name": "python",
   "nbconvert_exporter": "python",
   "pygments_lexer": "ipython3",
   "version": "3.8.8"
  }
 },
 "nbformat": 4,
 "nbformat_minor": 5
}
